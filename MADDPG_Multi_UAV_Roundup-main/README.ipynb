{
 "cells": [
  {
   "cell_type": "markdown",
   "metadata": {
    "id": "C_95TBKL7OU2"
   },
   "source": [
    "# Abstract\n",
    "This projectis is about a cooperative path planning task for multiple UAVs in a map with method of MADDPG. Multiple UAVs operate in a bounded airspace environment to coordinate to maintain formation and confine the target. The formation consists of 3 UAVs aiming to avoid environmental obstacles, maintain a roundup formation during the mission, and eventually successfully surround and capture the target.\n",
    "\n",
    "The code file and its main responsible functions are as follows:\n",
    "\n",
    "**buffer.py**: Implemented Multi-Agent Replay Buffer used for MADDPG\n",
    "\n",
    "**agent.py**:Responsible for training and maintaining an agent in a multi-agent system\n",
    "\n",
    "**maddpg.py**:Implemented the Actor-Critic training mechanism of multi-agents\n",
    "\n",
    "**network.py**: Implemented the Critic Network and the Actor Network for MADDPG\n",
    "\n",
    "**sim_env.py**:Define reward mechanism\n",
    "\n",
    "**mathtool.py**: Some calculation tools\n",
    "\n",
    "**main.py**: Train Process\n",
    "\n",
    "**main_evaluate.py**: Evaluate Process\n"
   ]
  },
  {
   "cell_type": "code",
   "execution_count": null,
   "metadata": {
    "colab": {
     "base_uri": "https://localhost:8080/"
    },
    "executionInfo": {
     "elapsed": 1316,
     "status": "ok",
     "timestamp": 1743201013264,
     "user": {
      "displayName": "彭筱涵",
      "userId": "04031182232492599416"
     },
     "user_tz": -480
    },
    "id": "3MtV76JQ2rCc",
    "outputId": "b2c861dc-439f-40a1-e52f-b667f5954a90"
   },
   "outputs": [
    {
     "name": "stdout",
     "output_type": "stream",
     "text": [
      "Cloning into 'AI'...\n",
      "remote: Enumerating objects: 34, done.\u001b[K\n",
      "remote: Counting objects: 100% (34/34), done.\u001b[K\n",
      "remote: Compressing objects: 100% (32/32), done.\u001b[K\n",
      "remote: Total 34 (delta 0), reused 0 (delta 0), pack-reused 0 (from 0)\u001b[K\n",
      "Receiving objects: 100% (34/34), 1.52 MiB | 5.75 MiB/s, done.\n"
     ]
    }
   ],
   "source": [
    "#Clone a project from git repository\n",
    "!git clone https://github.com/LYN1129/AI.git"
   ]
  },
  {
   "cell_type": "code",
   "execution_count": 7,
   "metadata": {
    "colab": {
     "base_uri": "https://localhost:8080/"
    },
    "executionInfo": {
     "elapsed": 5,
     "status": "ok",
     "timestamp": 1743201035927,
     "user": {
      "displayName": "彭筱涵",
      "userId": "04031182232492599416"
     },
     "user_tz": -480
    },
    "id": "mUWeZrXN21eZ",
    "outputId": "b19c4755-e4a1-4a3d-ab6c-8003dda245cb"
   },
   "outputs": [
    {
     "name": "stdout",
     "output_type": "stream",
     "text": [
      "/content/AI/MADDPG_Multi_UAV_Roundup-main/AI/MADDPG_Multi_UAV_Roundup-main\n"
     ]
    }
   ],
   "source": [
    "#Enter the project folder\n",
    "cd AI/MADDPG_Multi_UAV_Roundup-main/"
   ]
  },
  {
   "cell_type": "code",
   "execution_count": null,
   "metadata": {
    "id": "m1wvjt6z4Sm9"
   },
   "outputs": [],
   "source": [
    "#if set 'main_evaluate = FALSE' in main.py,the training will begin. Then it save the training results in the tmp folder.\n",
    "#We don't recommand to do this, for the reason that we do not control the random seeds globally and training may lead to poor results.\n",
    "!python main.py"
   ]
  },
  {
   "cell_type": "code",
   "execution_count": null,
   "metadata": {
    "colab": {
     "base_uri": "https://localhost:8080/"
    },
    "executionInfo": {
     "elapsed": 30993,
     "status": "ok",
     "timestamp": 1743200963599,
     "user": {
      "displayName": "彭筱涵",
      "userId": "04031182232492599416"
     },
     "user_tz": -480
    },
    "id": "ex0EYBPy2217",
    "outputId": "2efb8e74-fab9-43fe-b866-b449d63eaa54"
   },
   "outputs": [
    {
     "name": "stdout",
     "output_type": "stream",
     "text": [
      "... loading checkpoint ...\n",
      "---- Evaluating ----\n",
      "Round-up finished in 77 steps.\n"
     ]
    }
   ],
   "source": [
    "#if set 'main_evaluate = Ture' in main.py, it will perform result evaluation.\n",
    "#the position results rendered by time step are in frames_output folder,\n",
    "# the speed results are in speed_output folder\n",
    "# the Reward results(in report) is in rewards folder.\n",
    "!python main_evaluate.py\n",
    "\n",
    "# For one training, only one result will be produced, resulting in a curve. \n",
    "# The three curves in the report correspond to three training sessions under different parameters.\n",
    "# Here in main_evaluate.py, we only displayed results in our report, not re-drawing the line chart for the new training results."
   ]
  }
 ],
 "metadata": {
  "accelerator": "GPU",
  "colab": {
   "authorship_tag": "ABX9TyOM228cTztbcVgY6jCfMwrS",
   "gpuType": "T4",
   "provenance": []
  },
  "kernelspec": {
   "display_name": "Python 3",
   "name": "python3"
  },
  "language_info": {
   "name": "python"
  }
 },
 "nbformat": 4,
 "nbformat_minor": 0
}
